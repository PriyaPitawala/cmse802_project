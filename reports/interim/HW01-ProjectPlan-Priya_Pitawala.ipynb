{
 "cells": [
  {
   "cell_type": "markdown",
   "id": "1897be31",
   "metadata": {},
   "source": [
    "# Homework 1: Project Plan and Resource Identification\n",
    "\n",
    "## Objective\n",
    "Develop a comprehensive project plan and identify necessary resources for your final project.\n",
    "\n",
    "## Instructions\n",
    "Complete the following sections in this notebook. Be as detailed and specific as possible in your responses. Use code cells for any preliminary code, data exploration, or resource testing you conduct.\n"
   ]
  },
  {
   "cell_type": "markdown",
   "id": "b41c32c0",
   "metadata": {},
   "source": [
    "## 1. Project Title and Brief Description\n",
    "\n",
    "Provide a clear, concise title for your project and a brief description (2-3 sentences) that outlines the main idea and goals.\n",
    "\n",
    "* Project Title:  Image Analysis and Percent Crystallinity Quantification\n",
    "* Brief Description: This project involves creating a Python-based tool that processes polarized optical microscope (POM) images of a semicrystalline  thiol-ene photopolymer system, and analyzes the percent crystallinity. It will also attempt to find a correlation between the percent crystallinity and the thermal and mechanical properties obtained from experimental data.\n"
   ]
  },
  {
   "cell_type": "markdown",
   "id": "afca71e6",
   "metadata": {},
   "source": [
    "✏️ **Answer:**"
   ]
  },
  {
   "cell_type": "markdown",
   "id": "4c527464",
   "metadata": {},
   "source": [
    "## 2. Project Goals and Objectives\n",
    "\n",
    "List 3-5 specific, measurable objectives for your project. What do you aim to achieve or demonstrate?\n",
    "\n",
    "1. To preprocess the POM images to enhance the contrast between crystalline and amorphous regions, and to reduce noise.\n",
    "2. To define the features that characterize crystallinity and develop an algorithm to distinguish between crystalline and amorphous regions.\n",
    "3. To calculate the percent crystallinity of each image and aggregate the results of multiple images using statistical methods.\n",
    "4. To analyze the relationships between the percent crystallinity and the polymer properties.\n",
    "5. To use data visualization tools to display the results.\n",
    "\n",
    "Explain how these objectives align with the course topics we've covered or will cover.\n"
   ]
  },
  {
   "cell_type": "markdown",
   "id": "927d0a9d",
   "metadata": {},
   "source": [
    "✏️ **Answer:**  \n",
    "\n",
    "To complete the objectives, I will need to rely on computational methods such as linear algebra for image preprocessing and I will be using version control while developing and optimizing an algorithm for image segmentation. Additionally, I will be using statistical analysis and linear regression to calculate the average percent crystallinity and to find correlations to the polymer properties. "
   ]
  },
  {
   "cell_type": "markdown",
   "id": "cfbb65a1",
   "metadata": {},
   "source": [
    "## 3. Methodology\n",
    "\n",
    "Outline the computational methods and approaches you plan to use in your project. Consider:\n",
    "\n",
    "* What algorithms or models will you implement?\n",
    "* How will you structure your code?\n",
    "* What computational techniques from the course will you apply?\n",
    "\n",
    "Provide a high-level overview of your planned approach.\n"
   ]
  },
  {
   "cell_type": "markdown",
   "id": "984715e5",
   "metadata": {},
   "source": [
    "✏️ **Answer:**  \n",
    "\n",
    "1. Algorithms and models used:  \n",
    "Image preprocessing algorithm to reduce noise and enhance the contrast.\n",
    "Gradient-based watershed segmentation algorithm to segment the crystalline regions (consisting of brightly-colored spherulites and the characteristic \"Maltese crosses\" of polymers) from the darker amorphous regions.\n",
    "Algorithm to extract and calculate the crystalline area and size distribution of spherulites.\n",
    "Algorithm to obtain the statistical data of the total dataset.\n",
    "Regression model to correlate the percent crystallinity to polymer properties.\n",
    "\n",
    "2. Structure of my code: separate modules for data loading, preprocessing, segmentation, feature extraction, crystallinity quantification, and correlation analysis. All the modules will be called and used in a main script.\n",
    "\n",
    "3.  Computational techniques: Linear algebra for loading and processing the images, modelling and optimization of the segmentation algorithm, regression analysis and statistical calculations, data visualization."
   ]
  },
  {
   "cell_type": "markdown",
   "id": "231c12ad",
   "metadata": {},
   "source": [
    "## 4. Data Sources\n",
    "\n",
    "Describe the data you'll use for your project:\n",
    "\n",
    "* What type of data do you need?\n",
    "* Where will you obtain this data?\n",
    "* How large is the dataset?\n",
    "* Are there any preprocessing steps required?\n",
    "\n",
    "If you've already identified specific datasets, provide links or references.\n"
   ]
  },
  {
   "cell_type": "markdown",
   "id": "a1130456",
   "metadata": {},
   "source": [
    "✏️ **Answer:**  \n",
    "Approximately 100 polarized optical microscope images that I have taken for my research project. The images will be preprocessed to reduce noise (potentially applying a Gaussian blur) and to enhance the contrast between different regions (potentially using histogram equalization). Finally it will be converted to grayscale to reduce the computational intensity and to ignore unnecessary color variations caused by the presence of a dye in my sample formulation."
   ]
  },
  {
   "cell_type": "markdown",
   "id": "56a5495d",
   "metadata": {},
   "source": [
    "## 5. Computational Methods and Course Topics\n",
    "\n",
    "\n",
    "Identify the key computational methods and topics covered in CMSE 802 that you plan to apply in your project. For each method or topic, briefly explain how you intend to use it in your project.\n",
    "\n",
    "Reference the course schedule and consider both the topics we've covered so far and those coming up. Focus on the core computational and analytical methods. Key areas to consider:\n",
    "\n",
    "1. Data Handling and Preprocessing:\n",
    "   - What techniques will you use to prepare and analyze your data?\n",
    "\n",
    "2. Modeling and Optimization:\n",
    "   - Which modeling techniques are relevant to your project?\n",
    "   - How might you apply optimization methods?\n",
    "\n",
    "3. Numerical Methods:\n",
    "   - Will you use methods for solving ODEs?\n",
    "   - Are linear algebra techniques applicable to your project?\n",
    "\n",
    "4. Statistical Modeling and Dimensionality Reduction:\n",
    "   - How will you apply statistical modeling techniques?\n",
    "   - Do you plan to use dimensionality reduction methods?\n",
    "\n",
    "5. Machine Learning (if applicable):\n",
    "   - Which ML algorithms or techniques from the course are relevant?\n",
    "   - How will you implement and evaluate ML models?\n",
    "\n",
    "6. Advanced Topics (if applicable):\n",
    "   - Do you anticipate using neural networks or other advanced techniques we'll cover later in the course?\n",
    "   - How might you apply concepts like transfer learning or language modeling?\n",
    "\n",
    "For each relevant method or topic, provide a brief explanation:\n",
    "\n",
    "Method/Topic: [Name]\n",
    "Application in Project: [Brief explanation]\n",
    "\n",
    "Example:\n",
    "Method/Topic: Ordinary Differential Equations\n",
    "Application in Project: I will use ODE solvers to model the dynamics of a predator-prey system, specifically applying the Runge-Kutta method to solve the Lotka-Volterra equations.\n",
    "\n",
    "Add your methods and applications below:\n",
    "\n",
    "1. Method/Topic: Data cleaning and preparation  \n",
    "   Application in Project: I will use filters such as Gaussian blur to reduce noise, increase the image contrast using histogram equalization, and transform the images to matrices after converting them to grayscale. This will allow for easier storage and performing linear algebra during the image segmentation.\n",
    "\n",
    "2. Method/Topic: Modelling of image segmentation  \n",
    "   Application in Project: I will distinguish between crystalline and amorphous regions using gradient-based watershed algorithm.\n",
    "\n",
    "3. Method/Topic: Optimizing the algorithm  \n",
    "   Application in Project: I will optimize parameters of the watershed algorithm (e.g., gradient thresholds, marker placement) to improve segmentation accuracy such that it matches the manual segmentation of a few examples.\n",
    "\n",
    "4. Method/Topic: Linear Algebra Techniques  \n",
    "   Application in Project: I will use matrix operations for image transformations (e.g., convolution filters for edge detection) and feature extraction.\n",
    "\n",
    "5. Method/Topic: Statistical Analysis  \n",
    "   Application in Project: I will perform statistical calculations (e.g., mean, standard deviation) on segmented regions to quantify percent crystallinity.\n",
    "\n",
    "6. Method/Topic: Regression Analysis  \n",
    "   Application in Project: I will use regression models to correlate percent crystallinity with thermal and mechanical properties of polymers.\n",
    "...\n",
    "\n",
    "You can use the code cell below to demonstrate any preliminary implementation or testing of these methods.\n"
   ]
  },
  {
   "cell_type": "markdown",
   "id": "2680f799",
   "metadata": {},
   "source": [
    "✏️ **Answer:**"
   ]
  },
  {
   "cell_type": "markdown",
   "id": "549c9559",
   "metadata": {},
   "source": [
    "## 6. Timeline and Milestones\n",
    "\n",
    "Create a timeline for your project, breaking it down into weekly milestones. Consider the course schedule and upcoming homework deadlines.\n",
    "\n",
    "Example:\n",
    "* Week 5-6: [Milestone 1]\n",
    "* Week 7-8: [Milestone 2]\n",
    "...\n",
    "\n",
    "Align your milestones with the course topics and homework schedule. Put everything into a Gantt Chart.\n"
   ]
  },
  {
   "cell_type": "markdown",
   "id": "3ae631c5",
   "metadata": {},
   "source": [
    "✏️ **Answer:**\n",
    "\n",
    "Week 5-6: Research watershed algorithm; complete data collection; implement preprocessing; test on sample images.   \n",
    "Week 7-8: Implement gradient computation; initialize watershed algorithm.  \n",
    "Week 9-10: Refine watershed segmentation; validate the segmentation algorithm.  \n",
    "Week 11: Extract the crystallinity features; calculate percent crystallinity.  \n",
    "Week 12: Regression analysis and model interpretation.  \n",
    "Week 13-14: Finalize analysis and data visualization.  "
   ]
  },
  {
   "cell_type": "code",
   "execution_count": 4,
   "id": "aa0ce209-b8da-42e3-98cb-bd582b2b5388",
   "metadata": {},
   "outputs": [
    {
     "data": {
      "image/png": "[encoded data removed]",
      "text/plain": [
       "<Figure size 1200x600 with 1 Axes>"
      ]
     },
     "metadata": {},
     "output_type": "display_data"
    }
   ],
   "source": [
    "import matplotlib.pyplot as plt\n",
    "import numpy as np\n",
    "from matplotlib.patches import Rectangle\n",
    "\n",
    "# Define tasks and their start/end dates\n",
    "tasks = [\n",
    "    (\"Initial research\", 0, 2),\n",
    "    (\"Data preparation\", 1, 2),\n",
    "    (\"Gradient computation\", 2, 4),\n",
    "    (\"Image segmentation\", 3, 7),\n",
    "    (\"Crystallinity calculation\", 5, 7),\n",
    "    (\"Statistical modeling\", 6, 8),\n",
    "    (\"Analysis and visualization\", 7, 9)\n",
    "]\n",
    "\n",
    "# Set up the plot\n",
    "fig, ax = plt.subplots(figsize=(12, 6))\n",
    "\n",
    "# Plot each task as a horizontal bar\n",
    "for i, task in enumerate(tasks):\n",
    "    start_date = task[1]\n",
    "    duration = task[2] - task[1]\n",
    "    ax.broken_barh([(start_date, duration)], (i*10, 9), facecolors='skyblue', edgecolors='black')\n",
    "    ax.text(start_date, i*10+5, task[0], va='center', ha='right', fontweight='bold', fontsize=8, color='black', rotation=0, rotation_mode='anchor')\n",
    "\n",
    "# Customize the plot\n",
    "ax.set_ylim(0, len(tasks)*10)\n",
    "ax.set_xlim(0, 9)\n",
    "ax.set_xlabel('Weeks')\n",
    "ax.set_yticks([])\n",
    "ax.set_xticks(range(10))\n",
    "ax.set_xticklabels(['Week '+str(i+5) for i in range(10)])\n",
    "ax.grid(True, axis='x', linestyle='--', alpha=0.7)\n",
    "\n",
    "# Add title\n",
    "plt.title('Project Timeline', fontsize=16, fontweight='bold')\n",
    "\n",
    "plt.savefig(\"gantt_chart.png\")\n",
    "\n",
    "# Show the plot\n",
    "plt.tight_layout()\n",
    "plt.show()\n",
    "\n",
    "\n",
    "\n",
    "\n",
    "## The code for this gantt chart was drafted using Perplexity AI and modified accordingly."
   ]
  },
  {
   "cell_type": "markdown",
   "id": "241907bd",
   "metadata": {},
   "source": [
    "## 7. Potential Challenges and Mitigation Strategies\n",
    "\n",
    "Identify 2-3 potential challenges or risks you foresee in your project. For each, describe a strategy to mitigate or address the challenge.\n",
    "\n",
    "Example:\n",
    "1. Challenge: [Description]\n",
    "   Mitigation: [Strategy]\n",
    "2. Challenge: [Description]\n",
    "   Mitigation: [Strategy]\n",
    "...\n"
   ]
  },
  {
   "cell_type": "markdown",
   "id": "f8493ba1",
   "metadata": {},
   "source": [
    "✏️ **Answer:**  \n",
    "\n",
    "1. Challenge: Oversegmentation in watershed algorithm.  \n",
    "Mitigation: Reduce noise before segmentation and attempt marker-controlled watershed segmentation using morphological operations.\n",
    "\n",
    "2. Challenge: Variability in image quality and lighting conditions.  \n",
    "Mitigation: Normalize and enhance the contrast using histogram equalization."
   ]
  },
  {
   "cell_type": "markdown",
   "id": "09e99fd2",
   "metadata": {},
   "source": [
    "## 8. GitHub Setup\n",
    "\n",
    "1. Create a new GitHub **public** repository for your project. (2 points)\n",
    "   - Choose the name `cmse802_project`\n",
    "   - Initialize with a `README.md` file\n",
    "\n",
    "2. Create a `.gitignore` file appropriate for your project. (2 points)\n",
    "\n",
    "### 8.2 Directory Organization \n",
    "\n",
    "3. Set up the basic project structure in your repository. (2 points)\n",
    "   - Create an appropriate folder structure for your project\n",
    "   - Explain your folder structure in the `README.md`\n",
    "\n",
    "4. Write a comprehensive `README.md` file. (2 points)\n",
    "   - Include project title and brief description\n",
    "   - List project objectives\n",
    "   - Provide instructions for setting up and running your code\n",
    "   - Mention any dependencies or requirements\n"
   ]
  },
  {
   "cell_type": "markdown",
   "id": "57777823",
   "metadata": {},
   "source": [
    "## 9. References and Resources\n",
    "\n",
    "List any papers, books, websites, or other resources you've consulted or plan to use for your project. Use proper citation format.\n",
    "\n",
    "1. Wu, Y.; Li, Q. The Algorithm of Watershed Color Image Segmentation Based on Morphological Gradient. Sensors 2022, 22, 8202. https://doi.org/10.3390/s2221820.\n",
    "2. Hill, P. R.; Canagarajah, C. N.; Bull, D. R. Image Segmentation Using a Texture Gradient Based Watershed Transform. IEEE Transactions on Image Processing 2003, 12 (12), 1618–1633. https://doi.org/10.1109/tip.2003.819311.\n",
    "3. skimage.segmentation — skimage 0.25.1 documentation. Scikit-image.org. https://scikit-image.org/docs/stable/api/skimage.segmentation.html#skimage.segmentation.watershed (accessed 2025-02-11).\n",
    "4. Perplexity. Perplexity AI. www.perplexity.ai. https://www.perplexity.ai/.\n",
    "...\n",
    "\n",
    "Explain briefly how each resource relates to your project.\n",
    "1. This reference will be used to understand and implement the gradient-based watershed algorithm.\n",
    "2. This reference will be used to understand and implement marker-controlled segmentation to mitigate oversegmentation.\n",
    "3. This reference will be used as the documentation for the Scikit package.\n",
    "4. Perplexity AI will be used to aid in planning the project, drafting python codes, and troubleshooting errors.\n"
   ]
  },
  {
   "cell_type": "markdown",
   "id": "a304d426",
   "metadata": {},
   "source": [
    "## Congratulations, you're done!\n",
    "\n",
    "Submit this assignment by uploading your notebook to the course Desire2Learn web page.  Go to the \"Homework\" folder, find the appropriate submission link, and upload everything there. Make sure your name is on it!\n"
   ]
  },
  {
   "cell_type": "markdown",
   "id": "10d6ddb8",
   "metadata": {},
   "source": [
    "&#169; Copyright 2024, Department of Computational Mathematics, Science and Engineering at Michigan State University\n"
   ]
  }
 ],
 "metadata": {
  "kernelspec": {
   "display_name": "Python (env)",
   "language": "python",
   "name": "env"
  },
  "language_info": {
   "codemirror_mode": {
    "name": "ipython",
    "version": 3
   },
   "file_extension": ".py",
   "mimetype": "text/x-python",
   "name": "python",
   "nbconvert_exporter": "python",
   "pygments_lexer": "ipython3",
   "version": "3.11.4"
  }
 },
 "nbformat": 4,
 "nbformat_minor": 5
}
